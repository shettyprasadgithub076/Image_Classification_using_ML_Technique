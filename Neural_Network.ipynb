{
  "nbformat": 4,
  "nbformat_minor": 0,
  "metadata": {
    "colab": {
      "provenance": [],
      "gpuType": "T4",
      "mount_file_id": "1hTDKnRcMnkEDJR3WAfcy2jFIDc83beep",
      "authorship_tag": "ABX9TyMb3Hfjh3ft7EGv4dGXkf5I",
      "include_colab_link": true
    },
    "kernelspec": {
      "name": "python3",
      "display_name": "Python 3"
    },
    "language_info": {
      "name": "python"
    },
    "accelerator": "GPU"
  },
  "cells": [
    {
      "cell_type": "markdown",
      "metadata": {
        "id": "view-in-github",
        "colab_type": "text"
      },
      "source": [
        "<a href=\"https://colab.research.google.com/github/shettyprasadgithub076/Image_Classification_using_ML_Technique/blob/main/Neural_Network.ipynb\" target=\"_parent\"><img src=\"https://colab.research.google.com/assets/colab-badge.svg\" alt=\"Open In Colab\"/></a>"
      ]
    },
    {
      "cell_type": "code",
      "source": [
        "import numpy as np\n",
        "import torch\n",
        "import torch.nn as nn\n",
        "import matplotlib.pyplot as plt\n",
        "from torch.utils.data import Dataset,DataLoader\n",
        "from matplotlib.colors import ListedColormap\n",
        "import os\n",
        "from PIL import Image\n"
      ],
      "metadata": {
        "id": "iI1173sHLd2y"
      },
      "execution_count": null,
      "outputs": []
    },
    {
      "cell_type": "code",
      "source": [
        "class Net(nn.Module):\n",
        "    def __init__(self,size_input,H,size_output):\n",
        "        super(Net,self).__init__()\n",
        "        self.Linear1=nn.Linear(size_input,H)\n",
        "        self.Linear2=nn.Linear(H,1)\n",
        "\n",
        "    def forward(self,x):\n",
        "        x=torch.sigmoid(self.Linear1(x))\n",
        "        x=torch.sigmoid(self.Linear2(x))\n",
        "        return x"
      ],
      "metadata": {
        "id": "yzzDG1PbLdvJ"
      },
      "execution_count": null,
      "outputs": []
    },
    {
      "cell_type": "code",
      "source": [
        "# Define the class XOR_Data\n",
        "\n",
        "class XOR_Data(Dataset):\n",
        "\n",
        "    # Constructor\n",
        "    # N_s is the size of the dataset\n",
        "    def __init__(self, N_s=100):\n",
        "        # Create a N_s by 2 array for the X values representing the coordinates\n",
        "        self.x = torch.zeros((N_s, 2))\n",
        "        # Create a N_s by 1 array for the class the X value belongs to\n",
        "        self.y = torch.zeros((N_s, 1))\n",
        "        # Split the dataset into 4 sections\n",
        "        for i in range(N_s // 4):\n",
        "            # Create data centered around (0,0) of class 0\n",
        "            self.x[i, :] = torch.Tensor([0.0, 0.0])\n",
        "            self.y[i, 0] = torch.Tensor([0.0])\n",
        "\n",
        "            # Create data centered around (0,1) of class 1\n",
        "            self.x[i + N_s // 4, :] = torch.Tensor([0.0, 1.0])\n",
        "            self.y[i + N_s // 4, 0] = torch.Tensor([1.0])\n",
        "\n",
        "            # Create data centered around (1,0) of class 1\n",
        "            self.x[i + N_s // 2, :] = torch.Tensor([1.0, 0.0])\n",
        "            self.y[i + N_s // 2, 0] = torch.Tensor([1.0])\n",
        "\n",
        "            # Create data centered around (1,1) of class 0\n",
        "            self.x[i + 3 * N_s // 4, :] = torch.Tensor([1.0, 1.0])\n",
        "            self.y[i + 3 * N_s // 4, 0] = torch.Tensor([0.0])\n",
        "\n",
        "            # Add some noise to the X values to make them different\n",
        "            self.x = self.x + 0.01 * torch.randn((N_s, 2))\n",
        "        self.len = N_s\n",
        "\n",
        "    # Getter\n",
        "    def __getitem__(self, index):\n",
        "        return self.x[index],self.y[index]\n",
        "\n",
        "    # Get Length\n",
        "    def __len__(self):\n",
        "        return self.len\n",
        "\n",
        "    # Plot the data\n",
        "    def plot_stuff(self):\n",
        "        plt.plot(self.x[self.y[:, 0] == 0, 0].numpy(), self.x[self.y[:, 0] == 0, 1].numpy(), 'o', label=\"y=0\")\n",
        "        plt.plot(self.x[self.y[:, 0] == 1, 0].numpy(), self.x[self.y[:, 0] == 1, 1].numpy(), 'ro', label=\"y=1\")\n",
        "        plt.legend()\n"
      ],
      "metadata": {
        "id": "C_IcmmXaLdr3"
      },
      "execution_count": null,
      "outputs": []
    },
    {
      "cell_type": "code",
      "source": [
        "\n",
        "\n",
        "model=Net(2,1,1) # one neuron\n",
        "#model=Net(2,2,1) # two neuron\n",
        "#model=Net(2,3,1) # three neuron"
      ],
      "metadata": {
        "id": "T7PMhk7iLdoe"
      },
      "execution_count": null,
      "outputs": []
    },
    {
      "cell_type": "code",
      "source": [
        "data_set=XOR_Data()\n",
        "def accuracy(model, data_set):\n",
        "    return np.mean(data_set.y.view(-1).numpy() == (model(data_set.x)[:, 0] > 0.5).numpy())\n",
        "\n",
        "def train(data_set, model, criterion, train_loader, optimizer, epochs):\n",
        "\n",
        "    COST = []\n",
        "    ACC = []\n",
        "    best_accuracy=0\n",
        "\n",
        "    for epoch in range(epochs):\n",
        "        total=0\n",
        "        for x, y in train_loader:\n",
        "            optimizer.zero_grad()\n",
        "            yhat = model(x)\n",
        "            loss = criterion(yhat, y)\n",
        "            loss.backward()\n",
        "            optimizer.step()\n",
        "            total+=loss.item()\n",
        "        acc=accuracy(model, data_set)\n",
        "        ACC.append(acc)\n",
        "        COST.append(total)\n",
        "        if acc>best_accuracy:\n",
        "            best_accuracy=acc\n",
        "\n",
        "        print(f\"Epoch:{epoch},  Accuracy:{acc},  Loss:{total:.4f}\")\n",
        "    return COST,ACC,best_accuracy\n",
        "\n",
        "\n",
        "\n",
        "learning_rate = 0.1\n",
        "\n",
        "criterion = nn.BCELoss()\n",
        "\n",
        "optimizer = torch.optim.SGD(model.parameters(), lr=learning_rate)\n",
        "\n",
        "train_loader = DataLoader(dataset=data_set, batch_size=1)\n",
        "\n",
        "cost,accuracy,best_accuracy = train(data_set, model, criterion, train_loader, optimizer, epochs=10)\n",
        "\n",
        "print(best_accuracy)\n",
        "\n",
        "\n"
      ],
      "metadata": {
        "colab": {
          "base_uri": "https://localhost:8080/"
        },
        "id": "n6DOLAtELdeQ",
        "outputId": "6f5c1ced-466a-483c-bfa7-bc37f8b90b55"
      },
      "execution_count": null,
      "outputs": [
        {
          "output_type": "stream",
          "name": "stdout",
          "text": [
            "Epoch:0,  Accuracy:0.5,  Loss:64.6369\n",
            "Epoch:1,  Accuracy:0.5,  Loss:64.1333\n",
            "Epoch:2,  Accuracy:0.5,  Loss:64.2731\n",
            "Epoch:3,  Accuracy:0.5,  Loss:64.3901\n",
            "Epoch:4,  Accuracy:0.5,  Loss:64.4774\n",
            "Epoch:5,  Accuracy:0.5,  Loss:64.5431\n",
            "Epoch:6,  Accuracy:0.5,  Loss:64.5932\n",
            "Epoch:7,  Accuracy:0.5,  Loss:64.6318\n",
            "Epoch:8,  Accuracy:0.5,  Loss:64.6616\n",
            "Epoch:9,  Accuracy:0.5,  Loss:64.6846\n",
            "0.5\n"
          ]
        }
      ]
    },
    {
      "cell_type": "markdown",
      "source": [
        "# __Neural Network Rectified Linear Unit (ReLU) vs Sigmoid__\n"
      ],
      "metadata": {
        "id": "WvQwWZTwCwTA"
      }
    },
    {
      "cell_type": "code",
      "execution_count": null,
      "metadata": {
        "id": "P1ZWYHR8_SUK"
      },
      "outputs": [],
      "source": [
        "import numpy as np\n",
        "import torch\n",
        "import torch.nn as nn\n",
        "import matplotlib.pyplot as plt\n",
        "from torch.utils.data import Dataset,DataLoader\n",
        "import os\n",
        "import torchvision.transforms as transforms\n",
        "import torchvision.datasets as dsets"
      ]
    },
    {
      "cell_type": "code",
      "source": [
        "train_dataset = dsets.MNIST(root='./data', train=True, download=True, transform=transforms.ToTensor())"
      ],
      "metadata": {
        "colab": {
          "base_uri": "https://localhost:8080/"
        },
        "id": "qykqsY2p_b7O",
        "outputId": "84ca50ed-8129-4571-c244-4a198073b4a8"
      },
      "execution_count": null,
      "outputs": [
        {
          "output_type": "stream",
          "name": "stdout",
          "text": [
            "Downloading http://yann.lecun.com/exdb/mnist/train-images-idx3-ubyte.gz\n",
            "Downloading http://yann.lecun.com/exdb/mnist/train-images-idx3-ubyte.gz to ./data/MNIST/raw/train-images-idx3-ubyte.gz\n"
          ]
        },
        {
          "output_type": "stream",
          "name": "stderr",
          "text": [
            "100%|██████████| 9912422/9912422 [00:00<00:00, 172064244.13it/s]"
          ]
        },
        {
          "output_type": "stream",
          "name": "stdout",
          "text": [
            "Extracting ./data/MNIST/raw/train-images-idx3-ubyte.gz to ./data/MNIST/raw\n"
          ]
        },
        {
          "output_type": "stream",
          "name": "stderr",
          "text": [
            "\n"
          ]
        },
        {
          "output_type": "stream",
          "name": "stdout",
          "text": [
            "\n",
            "Downloading http://yann.lecun.com/exdb/mnist/train-labels-idx1-ubyte.gz\n",
            "Downloading http://yann.lecun.com/exdb/mnist/train-labels-idx1-ubyte.gz to ./data/MNIST/raw/train-labels-idx1-ubyte.gz\n"
          ]
        },
        {
          "output_type": "stream",
          "name": "stderr",
          "text": [
            "100%|██████████| 28881/28881 [00:00<00:00, 124369295.51it/s]\n"
          ]
        },
        {
          "output_type": "stream",
          "name": "stdout",
          "text": [
            "Extracting ./data/MNIST/raw/train-labels-idx1-ubyte.gz to ./data/MNIST/raw\n",
            "\n",
            "Downloading http://yann.lecun.com/exdb/mnist/t10k-images-idx3-ubyte.gz\n",
            "Downloading http://yann.lecun.com/exdb/mnist/t10k-images-idx3-ubyte.gz to ./data/MNIST/raw/t10k-images-idx3-ubyte.gz\n"
          ]
        },
        {
          "output_type": "stream",
          "name": "stderr",
          "text": [
            "100%|██████████| 1648877/1648877 [00:00<00:00, 48562901.72it/s]"
          ]
        },
        {
          "output_type": "stream",
          "name": "stdout",
          "text": [
            "Extracting ./data/MNIST/raw/t10k-images-idx3-ubyte.gz to ./data/MNIST/raw\n"
          ]
        },
        {
          "output_type": "stream",
          "name": "stderr",
          "text": [
            "\n"
          ]
        },
        {
          "output_type": "stream",
          "name": "stdout",
          "text": [
            "\n",
            "Downloading http://yann.lecun.com/exdb/mnist/t10k-labels-idx1-ubyte.gz\n",
            "Downloading http://yann.lecun.com/exdb/mnist/t10k-labels-idx1-ubyte.gz to ./data/MNIST/raw/t10k-labels-idx1-ubyte.gz\n"
          ]
        },
        {
          "output_type": "stream",
          "name": "stderr",
          "text": [
            "100%|██████████| 4542/4542 [00:00<00:00, 24423754.83it/s]\n"
          ]
        },
        {
          "output_type": "stream",
          "name": "stdout",
          "text": [
            "Extracting ./data/MNIST/raw/t10k-labels-idx1-ubyte.gz to ./data/MNIST/raw\n",
            "\n"
          ]
        }
      ]
    },
    {
      "cell_type": "code",
      "source": [
        "validation_dataset = dsets.MNIST(root='./data', train=False, download=True, transform=transforms.ToTensor())"
      ],
      "metadata": {
        "id": "vWkike3N_p4O"
      },
      "execution_count": null,
      "outputs": []
    },
    {
      "cell_type": "code",
      "source": [
        "class Net(nn.Module):\n",
        "    def __init__(self,size_input,H1,H2,size_output):\n",
        "        super(Net,self).__init__()\n",
        "        self.Linear1=nn.Linear(size_input,H1)\n",
        "        self.Linear2=nn.Linear(H1,H2)\n",
        "        self.linear3=nn.Linear(H2,size_output)\n",
        "\n",
        "    def forward(self,x):\n",
        "        x=torch.sigmoid(self.Linear1(x))\n",
        "        x=torch.sigmoid(self.Linear2(x))\n",
        "        x=self.linear3(x)\n",
        "        return x"
      ],
      "metadata": {
        "id": "97GHb3UL_tlL"
      },
      "execution_count": null,
      "outputs": []
    },
    {
      "cell_type": "code",
      "source": [
        "class NetRelu(nn.Module):\n",
        "    def __init__(self,size_input,H1,H2,size_output):\n",
        "        super(NetRelu,self).__init__()\n",
        "        self.Linear1=nn.Linear(size_input,H1)\n",
        "        self.Linear2=nn.Linear(H1,H2)\n",
        "        self.linear3=nn.Linear(H2,size_output)\n",
        "\n",
        "    def forward(self,x):\n",
        "        x=torch.relu(self.Linear1(x))\n",
        "        x=torch.relu(self.Linear2(x))\n",
        "        x=self.linear3(x)\n",
        "        return x"
      ],
      "metadata": {
        "id": "ry_ahIXu_wyr"
      },
      "execution_count": null,
      "outputs": []
    },
    {
      "cell_type": "code",
      "source": [
        "def train(model, criterion, train_loader, validation_loader, optimizer, epochs=100):\n",
        "    i = 0\n",
        "    training_loss=[]\n",
        "    validation_accuracy=[]\n",
        "    best_accuracy=0\n",
        "    #useful_stuff = {'training_loss': [], 'validation_accuracy': []}\n",
        "\n",
        "    for epoch in range(epochs):\n",
        "        for i, (x, y) in enumerate(train_loader):\n",
        "            optimizer.zero_grad()\n",
        "            z = model(x.view(-1, 28 * 28))\n",
        "            loss = criterion(z, y)\n",
        "            loss.backward()\n",
        "            optimizer.step()\n",
        "            loss=loss.data.item()\n",
        "            training_loss.append(loss)\n",
        "            #useful_stuff['training_loss'].append(loss.data.item())\n",
        "\n",
        "        correct = 0\n",
        "        for x, y in validation_loader:\n",
        "            z = model(x.view(-1, 28 * 28))\n",
        "            _, label = torch.max(z, 1)\n",
        "            correct += (label == y).sum().item()\n",
        "\n",
        "        # Saves the percent accuracy\n",
        "        accuracy = 100 * (correct / len(validation_dataset))\n",
        "        validation_accuracy.append(accuracy)\n",
        "\n",
        "        if accuracy>best_accuracy:\n",
        "            best_accuracy=accuracy\n",
        "            best_epoch=epoch\n",
        "\n",
        "        print(f\"Epoch: {epoch + 1}/{epochs} , Training_Loss: {loss:.4f} , Validation_accuracy:{accuracy} %\")\n",
        "        print()\n",
        "\n",
        "    return training_loss,validation_accuracy,best_epoch\n",
        "\n",
        "\n",
        "criterion = nn.CrossEntropyLoss()\n",
        "train_loader = DataLoader(dataset=train_dataset, batch_size=1, shuffle=True)\n",
        "validation_loader = DataLoader(dataset=validation_dataset, batch_size=1, shuffle=False)\n",
        "\n",
        "input_dim = 28 * 28 # Diemension of an image\n",
        "hidden_dim1 = 50\n",
        "hidden_dim2 = 50\n",
        "output_dim = 10 # Number of classes\n",
        "\n"
      ],
      "metadata": {
        "id": "pvGYaVZW_0Si"
      },
      "execution_count": null,
      "outputs": []
    },
    {
      "cell_type": "code",
      "source": [
        "learning_rate = 0.01\n",
        "model = Net(input_dim, hidden_dim1, hidden_dim2, output_dim)\n",
        "optimizer = torch.optim.SGD(model.parameters(), lr=learning_rate)\n",
        "training_loss,validation_accuracy,best_epoch = train(model, criterion, train_loader, validation_loader, optimizer, epochs=20)"
      ],
      "metadata": {
        "colab": {
          "base_uri": "https://localhost:8080/"
        },
        "id": "hesballF_3WN",
        "outputId": "4c0691a9-ede7-4231-c0aa-c85765c8e561"
      },
      "execution_count": null,
      "outputs": [
        {
          "output_type": "stream",
          "name": "stdout",
          "text": [
            "Epoch: 1/20 , Training_Loss: 0.0046 , Validation_accuracy:91.57 %\n",
            "\n",
            "Epoch: 2/20 , Training_Loss: 0.0023 , Validation_accuracy:94.13 %\n",
            "\n",
            "Epoch: 3/20 , Training_Loss: 1.0742 , Validation_accuracy:94.74000000000001 %\n",
            "\n",
            "Epoch: 4/20 , Training_Loss: 1.3943 , Validation_accuracy:95.17 %\n",
            "\n",
            "Epoch: 5/20 , Training_Loss: 0.0038 , Validation_accuracy:96.48 %\n",
            "\n",
            "Epoch: 6/20 , Training_Loss: 0.0112 , Validation_accuracy:96.61 %\n",
            "\n",
            "Epoch: 7/20 , Training_Loss: 0.1196 , Validation_accuracy:96.67999999999999 %\n",
            "\n",
            "Epoch: 8/20 , Training_Loss: 0.0002 , Validation_accuracy:96.67999999999999 %\n",
            "\n",
            "Epoch: 9/20 , Training_Loss: 0.0013 , Validation_accuracy:96.97 %\n",
            "\n",
            "Epoch: 10/20 , Training_Loss: 0.0001 , Validation_accuracy:96.35000000000001 %\n",
            "\n",
            "Epoch: 11/20 , Training_Loss: 0.0006 , Validation_accuracy:96.99 %\n",
            "\n",
            "Epoch: 12/20 , Training_Loss: 0.0001 , Validation_accuracy:97.24000000000001 %\n",
            "\n",
            "Epoch: 13/20 , Training_Loss: 0.0000 , Validation_accuracy:97.18 %\n",
            "\n",
            "Epoch: 14/20 , Training_Loss: 0.0000 , Validation_accuracy:97.24000000000001 %\n",
            "\n",
            "Epoch: 15/20 , Training_Loss: 0.0002 , Validation_accuracy:97.17 %\n",
            "\n",
            "Epoch: 16/20 , Training_Loss: 0.0019 , Validation_accuracy:97.17 %\n",
            "\n",
            "Epoch: 17/20 , Training_Loss: 0.0002 , Validation_accuracy:97.3 %\n",
            "\n",
            "Epoch: 18/20 , Training_Loss: 0.0001 , Validation_accuracy:97.23 %\n",
            "\n",
            "Epoch: 19/20 , Training_Loss: 0.0000 , Validation_accuracy:96.78 %\n",
            "\n",
            "Epoch: 20/20 , Training_Loss: 0.0001 , Validation_accuracy:97.25 %\n",
            "\n"
          ]
        }
      ]
    },
    {
      "cell_type": "code",
      "source": [
        "print(best_epoch)"
      ],
      "metadata": {
        "colab": {
          "base_uri": "https://localhost:8080/"
        },
        "id": "ULLDZxLgLJoP",
        "outputId": "782a70f8-7302-44f1-af84-20c10eefe9e1"
      },
      "execution_count": null,
      "outputs": [
        {
          "output_type": "stream",
          "name": "stdout",
          "text": [
            "16\n"
          ]
        }
      ]
    },
    {
      "cell_type": "code",
      "source": [
        "learning_rate = 0.01\n",
        "model = NetRelu(input_dim, hidden_dim1, hidden_dim2, output_dim)\n",
        "optimizer = torch.optim.SGD(model.parameters(), lr=learning_rate)\n",
        "training_loss_relu,validation_accuracy_relu,best_epoch_relu = train(model, criterion, train_loader, validation_loader, optimizer, epochs=20)"
      ],
      "metadata": {
        "colab": {
          "base_uri": "https://localhost:8080/"
        },
        "id": "E2VrqyXj_8Ic",
        "outputId": "cc5286a0-e456-42de-f6e4-7fdbae17d86f"
      },
      "execution_count": null,
      "outputs": [
        {
          "output_type": "stream",
          "name": "stdout",
          "text": [
            "Epoch: 1/20 , Training_Loss: 0.0002 , Validation_accuracy:95.56 %\n",
            "\n",
            "Epoch: 2/20 , Training_Loss: 0.0199 , Validation_accuracy:96.05 %\n",
            "\n",
            "Epoch: 3/20 , Training_Loss: 0.0007 , Validation_accuracy:96.86 %\n",
            "\n",
            "Epoch: 4/20 , Training_Loss: 0.0000 , Validation_accuracy:97.23 %\n",
            "\n",
            "Epoch: 5/20 , Training_Loss: 0.0000 , Validation_accuracy:95.97 %\n",
            "\n",
            "Epoch: 6/20 , Training_Loss: 0.0000 , Validation_accuracy:97.09 %\n",
            "\n",
            "Epoch: 7/20 , Training_Loss: 0.0189 , Validation_accuracy:97.23 %\n",
            "\n",
            "Epoch: 8/20 , Training_Loss: 0.0006 , Validation_accuracy:96.59 %\n",
            "\n",
            "Epoch: 9/20 , Training_Loss: 0.0003 , Validation_accuracy:97.56 %\n",
            "\n",
            "Epoch: 10/20 , Training_Loss: 1.0477 , Validation_accuracy:97.25 %\n",
            "\n",
            "Epoch: 11/20 , Training_Loss: 0.0000 , Validation_accuracy:97.11 %\n",
            "\n",
            "Epoch: 12/20 , Training_Loss: 0.0000 , Validation_accuracy:97.31 %\n",
            "\n",
            "Epoch: 13/20 , Training_Loss: 0.0000 , Validation_accuracy:97.49 %\n",
            "\n",
            "Epoch: 14/20 , Training_Loss: 0.0000 , Validation_accuracy:97.5 %\n",
            "\n",
            "Epoch: 15/20 , Training_Loss: 0.0000 , Validation_accuracy:96.72 %\n",
            "\n",
            "Epoch: 16/20 , Training_Loss: 0.0000 , Validation_accuracy:97.24000000000001 %\n",
            "\n",
            "Epoch: 17/20 , Training_Loss: 0.0000 , Validation_accuracy:97.28999999999999 %\n",
            "\n",
            "Epoch: 18/20 , Training_Loss: 0.0000 , Validation_accuracy:97.59 %\n",
            "\n",
            "Epoch: 19/20 , Training_Loss: 0.0000 , Validation_accuracy:96.8 %\n",
            "\n",
            "Epoch: 20/20 , Training_Loss: 0.0000 , Validation_accuracy:97.13000000000001 %\n",
            "\n"
          ]
        }
      ]
    },
    {
      "cell_type": "code",
      "source": [
        "print(best_epoch_relu)"
      ],
      "metadata": {
        "colab": {
          "base_uri": "https://localhost:8080/"
        },
        "id": "_i0iK5TgLIyv",
        "outputId": "bdfcb54d-7efb-4313-cb18-5a2d909e9713"
      },
      "execution_count": null,
      "outputs": [
        {
          "output_type": "stream",
          "name": "stdout",
          "text": [
            "17\n"
          ]
        }
      ]
    },
    {
      "cell_type": "code",
      "source": [
        "import matplotlib.pyplot as plt\n",
        "plt.plot(training_loss,label='Sigmoid')\n",
        "plt.plot(training_loss_relu,label='Relu')\n",
        "plt.ylabel('Loss')\n",
        "plt.title(\"Training Loss Iteration\")\n",
        "plt.legend()\n",
        "plt.show()"
      ],
      "metadata": {
        "colab": {
          "base_uri": "https://localhost:8080/",
          "height": 470
        },
        "id": "rG0wU7GmCvIO",
        "outputId": "5656405a-0137-4bb3-a278-1e1d9ce8debf"
      },
      "execution_count": null,
      "outputs": [
        {
          "output_type": "display_data",
          "data": {
            "text/plain": [
              "<Figure size 640x480 with 1 Axes>"
            ],
            "image/png": "[encoded data removed]"
          },
          "metadata": {}
        }
      ]
    },
    {
      "cell_type": "code",
      "source": [
        "import matplotlib.pyplot as plt\n",
        "plt.plot(validation_accuracy,label='Sigmoid')\n",
        "plt.plot(validation_accuracy_relu,label='Relu')\n",
        "plt.ylabel('Loss')\n",
        "plt.title(\"validation accuracy Iteration\")\n",
        "plt.legend()\n",
        "plt.show()"
      ],
      "metadata": {
        "colab": {
          "base_uri": "https://localhost:8080/",
          "height": 452
        },
        "id": "z1rUss8REWhf",
        "outputId": "71059f14-358e-4e69-c929-c956fbe54ef4"
      },
      "execution_count": null,
      "outputs": [
        {
          "output_type": "display_data",
          "data": {
            "text/plain": [
              "<Figure size 640x480 with 1 Axes>"
            ],
            "image/png": "[encoded data removed]"
          },
          "metadata": {}
        }
      ]
    },
    {
      "cell_type": "markdown",
      "source": [
        "# **Cat Dog Image Classification using NN**"
      ],
      "metadata": {
        "id": "G5y0kOhpOnag"
      }
    },
    {
      "cell_type": "code",
      "source": [],
      "metadata": {
        "id": "CKVD2S8iOyEY"
      },
      "execution_count": null,
      "outputs": []
    }
  ]
}